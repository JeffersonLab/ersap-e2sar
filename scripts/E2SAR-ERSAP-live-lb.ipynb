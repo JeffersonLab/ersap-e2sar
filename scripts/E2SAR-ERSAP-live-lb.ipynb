{
 "cells": [
  {
   "cell_type": "markdown",
   "id": "80a4ca6f-ab03-4de5-8488-8b67ba0ec4d1",
   "metadata": {},
   "source": [
    "# ERSAP-E2SAR Live LB on FABRIC \n",
    "\n",
    "This notebook helps sets up a sender and multiple receiver nodes on FABRIC such that they can communicate with the production LB. One of the nodes is designated as a sender and the rest as worker-receivers.\n",
    "\n",
    "See the following diagram:\n",
    "\n",
    "<div>\n",
    "    <img src=\"figs/live-lb.png\" width=500>\n",
    "</div>\n"
   ]
  },
  {
   "cell_type": "markdown",
   "id": "ce5948ab-7637-4fd7-a6c1-0c31e555928e",
   "metadata": {},
   "source": [
    "## Preamble\n",
    "\n",
    "This code should *always* be executed regardless of whether you are starting a new slice or returning to an existing slice."
   ]
  },
  {
   "cell_type": "code",
   "execution_count": 47,
   "id": "7d876e2c-21b6-4ac0-9c56-eb04771da7c5",
   "metadata": {},
   "outputs": [
    {
     "name": "stdout",
     "output_type": "stream",
     "text": [
      "https://github.com/JeffersonLab/E2SAR/releases/download/E2SAR-main-0.1.3-ubuntu-22.04/e2sar_0.1.3_amd64.deb\n"
     ]
    },
    {
     "data": {
      "text/html": [
       "<style type=\"text/css\">\n",
       "#T_ba15d tr:nth-child(even) {\n",
       "  background: #dbf3ff;\n",
       "  color: #231f20;\n",
       "}\n",
       "#T_ba15d tr:nth-child(odd) {\n",
       "  background: #ffffff;\n",
       "  color: #231f20;\n",
       "}\n",
       "#T_ba15d caption {\n",
       "  text-align: center;\n",
       "  font-size: 150%;\n",
       "}\n",
       "#T_ba15d_row0_col0, #T_ba15d_row0_col1, #T_ba15d_row1_col0, #T_ba15d_row1_col1, #T_ba15d_row2_col0, #T_ba15d_row2_col1, #T_ba15d_row3_col0, #T_ba15d_row3_col1, #T_ba15d_row4_col0, #T_ba15d_row4_col1, #T_ba15d_row5_col0, #T_ba15d_row5_col1, #T_ba15d_row6_col0, #T_ba15d_row6_col1, #T_ba15d_row7_col0, #T_ba15d_row7_col1, #T_ba15d_row8_col0, #T_ba15d_row8_col1, #T_ba15d_row9_col0, #T_ba15d_row9_col1, #T_ba15d_row10_col0, #T_ba15d_row10_col1, #T_ba15d_row11_col0, #T_ba15d_row11_col1, #T_ba15d_row12_col0, #T_ba15d_row12_col1, #T_ba15d_row13_col0, #T_ba15d_row13_col1, #T_ba15d_row14_col0, #T_ba15d_row14_col1, #T_ba15d_row15_col0, #T_ba15d_row15_col1, #T_ba15d_row16_col0, #T_ba15d_row16_col1 {\n",
       "  text-align: left;\n",
       "  border: 1px #231f20 solid !important;\n",
       "  overwrite: False;\n",
       "}\n",
       "</style>\n",
       "<table id=\"T_ba15d\">\n",
       "  <caption>FABlib Config</caption>\n",
       "  <thead>\n",
       "  </thead>\n",
       "  <tbody>\n",
       "    <tr>\n",
       "      <td id=\"T_ba15d_row0_col0\" class=\"data row0 col0\" >Orchestrator</td>\n",
       "      <td id=\"T_ba15d_row0_col1\" class=\"data row0 col1\" >orchestrator.fabric-testbed.net</td>\n",
       "    </tr>\n",
       "    <tr>\n",
       "      <td id=\"T_ba15d_row1_col0\" class=\"data row1 col0\" >Credential Manager</td>\n",
       "      <td id=\"T_ba15d_row1_col1\" class=\"data row1 col1\" >cm.fabric-testbed.net</td>\n",
       "    </tr>\n",
       "    <tr>\n",
       "      <td id=\"T_ba15d_row2_col0\" class=\"data row2 col0\" >Core API</td>\n",
       "      <td id=\"T_ba15d_row2_col1\" class=\"data row2 col1\" >uis.fabric-testbed.net</td>\n",
       "    </tr>\n",
       "    <tr>\n",
       "      <td id=\"T_ba15d_row3_col0\" class=\"data row3 col0\" >Token File</td>\n",
       "      <td id=\"T_ba15d_row3_col1\" class=\"data row3 col1\" >/home/fabric/.tokens.json</td>\n",
       "    </tr>\n",
       "    <tr>\n",
       "      <td id=\"T_ba15d_row4_col0\" class=\"data row4 col0\" >Project ID</td>\n",
       "      <td id=\"T_ba15d_row4_col1\" class=\"data row4 col1\" >bbe0d94c-736b-477a-a2e6-fef9fe7ac9ca</td>\n",
       "    </tr>\n",
       "    <tr>\n",
       "      <td id=\"T_ba15d_row5_col0\" class=\"data row5 col0\" >Bastion Host</td>\n",
       "      <td id=\"T_ba15d_row5_col1\" class=\"data row5 col1\" >bastion.fabric-testbed.net</td>\n",
       "    </tr>\n",
       "    <tr>\n",
       "      <td id=\"T_ba15d_row6_col0\" class=\"data row6 col0\" >Bastion Username</td>\n",
       "      <td id=\"T_ba15d_row6_col1\" class=\"data row6 col1\" >srinivas_0000202712</td>\n",
       "    </tr>\n",
       "    <tr>\n",
       "      <td id=\"T_ba15d_row7_col0\" class=\"data row7 col0\" >Bastion Private Key File</td>\n",
       "      <td id=\"T_ba15d_row7_col1\" class=\"data row7 col1\" >/home/fabric/work/fabric_config/fabric-bastion-key</td>\n",
       "    </tr>\n",
       "    <tr>\n",
       "      <td id=\"T_ba15d_row8_col0\" class=\"data row8 col0\" >Slice Public Key File</td>\n",
       "      <td id=\"T_ba15d_row8_col1\" class=\"data row8 col1\" >/home/fabric/work/fabric_config/slice_key.pub</td>\n",
       "    </tr>\n",
       "    <tr>\n",
       "      <td id=\"T_ba15d_row9_col0\" class=\"data row9 col0\" >Slice Private Key File</td>\n",
       "      <td id=\"T_ba15d_row9_col1\" class=\"data row9 col1\" >/home/fabric/work/fabric_config/slice_key</td>\n",
       "    </tr>\n",
       "    <tr>\n",
       "      <td id=\"T_ba15d_row10_col0\" class=\"data row10 col0\" >Sites to avoid</td>\n",
       "      <td id=\"T_ba15d_row10_col1\" class=\"data row10 col1\" ></td>\n",
       "    </tr>\n",
       "    <tr>\n",
       "      <td id=\"T_ba15d_row11_col0\" class=\"data row11 col0\" >SSH Command Line</td>\n",
       "      <td id=\"T_ba15d_row11_col1\" class=\"data row11 col1\" >ssh -i {{ _self_.private_ssh_key_file }} -F /home/fabric/work/fabric_config/ssh_config {{ _self_.username }}@{{ _self_.management_ip }}</td>\n",
       "    </tr>\n",
       "    <tr>\n",
       "      <td id=\"T_ba15d_row12_col0\" class=\"data row12 col0\" >Log Level</td>\n",
       "      <td id=\"T_ba15d_row12_col1\" class=\"data row12 col1\" >INFO</td>\n",
       "    </tr>\n",
       "    <tr>\n",
       "      <td id=\"T_ba15d_row13_col0\" class=\"data row13 col0\" >Log File</td>\n",
       "      <td id=\"T_ba15d_row13_col1\" class=\"data row13 col1\" >/tmp/fablib/fablib.log</td>\n",
       "    </tr>\n",
       "    <tr>\n",
       "      <td id=\"T_ba15d_row14_col0\" class=\"data row14 col0\" >Bastion SSH Config File</td>\n",
       "      <td id=\"T_ba15d_row14_col1\" class=\"data row14 col1\" >/home/fabric/work/fabric_config/ssh_config</td>\n",
       "    </tr>\n",
       "    <tr>\n",
       "      <td id=\"T_ba15d_row15_col0\" class=\"data row15 col0\" >Version</td>\n",
       "      <td id=\"T_ba15d_row15_col1\" class=\"data row15 col1\" >1.7.3</td>\n",
       "    </tr>\n",
       "    <tr>\n",
       "      <td id=\"T_ba15d_row16_col0\" class=\"data row16 col0\" >Data directory</td>\n",
       "      <td id=\"T_ba15d_row16_col1\" class=\"data row16 col1\" >/tmp/fablib</td>\n",
       "    </tr>\n",
       "  </tbody>\n",
       "</table>\n"
      ],
      "text/plain": [
       "<pandas.io.formats.style.Styler at 0x7b3dc0404d50>"
      ]
     },
     "metadata": {},
     "output_type": "display_data"
    }
   ],
   "source": [
    "#\n",
    "# EDIT THIS\n",
    "#\n",
    "\n",
    "# GitHub SSH key file (private) registered using the GitHubSSH.ipynb notebook referenced above\n",
    "github_key = '/home/fabric/work/fabric_config/github_ecdsa'\n",
    "\n",
    "# Note for best management network IPv4 connectivity pick from\n",
    "# 'UCSD', 'SRI', 'FIU' or 'TOKY' - these sites have\n",
    "# IPv4. Other sites use IPv6 management and have trouble\n",
    "# retrieving git-lfs artifacts.\n",
    "\n",
    "# ESnet-FABRIC gateway is at STAR, so the closer we are to it, the lower\n",
    "# the latency and loss.\n",
    "\n",
    "# site_list_override = None\n",
    "\n",
    "# if you want to force a site list instead of using random\n",
    "site_list_override = ['SRI', 'UCSD']\n",
    "\n",
    "# (super)core sites - should be low loss\n",
    "# site_list_override = ['NEWY', 'WASH', 'LOSA', 'DALL', 'ATLA']\n",
    "\n",
    "# grouped around STAR with optical connections to the backbone - should be low loss\n",
    "#site_list_override = ['STAR', 'INDI', 'NCSA', 'MICH']\n",
    "\n",
    "# high capacity sites (may have losses at high bandwidth)\n",
    "# site_list_override = ['STAR', 'INDI', 'NCSA', 'TACC', 'UCSD', 'PSC']\n",
    "\n",
    "# these we always exclude\n",
    "site_exclude_list = ['EDUKY', 'EDC']\n",
    "\n",
    "# how many workers do we want? (in addition to one sender)\n",
    "number_of_workers = 2\n",
    "\n",
    "# base distro 'ubuntu2[012]' or 'rocky[89]'\n",
    "distro_name = 'ubuntu22'\n",
    "distro_version = distro_name[-2:]\n",
    "\n",
    "# map from distro to image name\n",
    "images = {\n",
    "    'ubuntu20': 'default_ubuntu_20',\n",
    "    'ununtu21': 'default_ubuntu_21',\n",
    "    'ubuntu22': 'default_ubuntu_22',\n",
    "    'rocky8': 'default_rocky_8',\n",
    "    'rocky9': 'default_rocky_9',\n",
    "}\n",
    "\n",
    "# note that the below is distribution specific ('ubuntu' for ubuntu and so on)\n",
    "home_location = {\n",
    "    'ubunt': '/home/ubuntu',\n",
    "    'rocky' : '/home/rocky'\n",
    "}[distro_name[:5]]\n",
    "\n",
    "vm_key_location = f'{home_location}/.ssh/github_ecdsa'\n",
    "\n",
    "# worker dimensions\n",
    "node_attribs = {\n",
    "    'cores': 8,\n",
    "    'disk': 100,\n",
    "    'ram': 24,\n",
    "    'image': images[distro_name]\n",
    "}\n",
    "\n",
    "# slice name\n",
    "slice_name = f'{number_of_workers + 1}-node LB Tester Slice using {distro_name}'\n",
    "\n",
    "# these are subnets we want to be able to route to/from\n",
    "# The list has the form ['192.168.100.0/24', '10.100.1.0/24']\n",
    "external_subnets = ['192.188.29.0/24', '23.134.232.0/22']\n",
    "\n",
    "# these are the lists of destination ports we allow to be open on the FABNet interface\n",
    "# for incoming traffic from different subnets. The dictionary has the form\n",
    "# { '192.168.100.0/24': [22, 443] } - the key is the source subnet and the value\n",
    "# is a list of destination ports allowed from that subnet\n",
    "open_ports = {\n",
    "}\n",
    "\n",
    "# additional accounts and their public keys - they get sudo rights and docker,\n",
    "# their public keys are expected to reside under ssh-keys/ in a file\n",
    "# named after the account.\n",
    "# The list has the form of ['user1', 'user2'] where user1 and user2 accounts\n",
    "# will be created on the system. Under ssh-keys/ there should be two files\n",
    "# named 'user1' and 'user2' each containing the SSH public key for that user. \n",
    "accounts = []\n",
    "\n",
    "# url of e2sar deps. Find the appropriate version for the OS at https://github.com/JeffersonLab/E2SAR/releases\n",
    "e2sar_branch = \"main\"\n",
    "static_release_url = 'https://github.com/JeffersonLab/E2SAR/releases/download/E2SAR' # don't need to change this\n",
    "e2sar_release_artifact = 'e2sar_0.1.3_amd64.deb'\n",
    "e2sar_release_ver = '0.1.3'\n",
    "e2sar_release_url = static_release_url + '-' + e2sar_branch + '-' + e2sar_release_ver + \"-\" + distro_name[:-2] + \"-\" + distro_version + \".04/\" + e2sar_release_artifact\n",
    "print(e2sar_release_url)\n",
    "#\n",
    "# SHOULDN'T NEED TO EDIT BELOW\n",
    "#\n",
    "# Preamble\n",
    "import json\n",
    "from datetime import datetime\n",
    "from datetime import timezone\n",
    "from datetime import timedelta\n",
    "\n",
    "from fabrictestbed_extensions.fablib.fablib import FablibManager as fablib_manager\n",
    "\n",
    "from ipaddress import ip_address, IPv4Address, IPv6Address, IPv4Network, IPv6Network\n",
    "import ipaddress\n",
    "\n",
    "fablib = fablib_manager()             \n",
    "fablib.show_config();\n",
    "\n",
    "# gets prepended to site name - this network is per site\n",
    "net_name_prefix = 'fabnetv4ext'\n",
    "\n",
    "# this is the NIC to use\n",
    "nic_model = 'NIC_Basic'\n",
    "\n",
    "def execute_single_node(node, commands):\n",
    "    for command in commands:\n",
    "        print(f'\\tExecuting \"{command}\" on node {node.get_name()}')\n",
    "        #stdout, stderr = node.execute(command, quiet=True, output_file=node.get_name() + '_install.log')\n",
    "        stdout, stderr = node.execute(command)\n",
    "    if not stderr and len(stderr) > 0:\n",
    "        print(f'Error encountered with \"{command}\": {stderr}')\n",
    "        \n",
    "def execute_commands(node, commands):\n",
    "    if isinstance(node, list):\n",
    "        for n in node:\n",
    "            execute_single_node(n, commands)\n",
    "    else:\n",
    "        execute_single_node(node, commands)\n",
    "\n",
    "def execute_single_node_on_thread(node, commands):\n",
    "    # concatenate the commands using ';' and execute\n",
    "    allcommands = ';'.join(commands)\n",
    "    node.execute_thread(allcommands, output_file=node.get_name() + '_thread.log')\n",
    "\n",
    "def execute_commands_on_threads(node, commands):\n",
    "    if isinstance(node, list):\n",
    "        for n in node:\n",
    "            execute_single_node_on_thread(n, commands)\n",
    "    else:\n",
    "        execute_single_node_on_thread(node, commands)\n",
    "\n",
    "def make_node_name(site_name, node_idx):\n",
    "    return '_'.join([f\"Worker{node_idx}\", site_name])\n",
    "\n",
    "def make_net_name(site_name):\n",
    "    return '_'.join([net_name_prefix, site_name])\n",
    "\n",
    "# return slice with one node on one site\n",
    "def starter_slice(site_name):\n",
    "    #node_name = make_node_name(site_name, 1)\n",
    "    node_name = '_'.join([\"Sender\", site_name])\n",
    "    net_name = make_net_name(site_name)\n",
    "\n",
    "    slice = fablib.new_slice(name=slice_name)\n",
    "    node = slice.add_node(name=node_name, site=site_name, **node_attribs)\n",
    "\n",
    "    # postboot configuration is under 'post-boot' directory\n",
    "    node.add_post_boot_upload_directory('post-boot','.')\n",
    "    node.add_post_boot_execute(f'chmod +x post-boot/sender.sh && ./post-boot/sender.sh')\n",
    "    \n",
    "    # attach to network\n",
    "    nic_interface = node.add_component(model=nic_model, name='_'.join([node_name, nic_model, 'nic'])).get_interfaces()[0]\n",
    "    net = slice.add_l3network(name=net_name, interfaces=[nic_interface], type='IPv4Ext')\n",
    "\n",
    "    return slice\n",
    "\n",
    "def add_node_to_slice(site_name, node_idx, inc, slice):\n",
    "\n",
    "    net_name = make_net_name(site_name)\n",
    "\n",
    "    while inc > 0:\n",
    "        node_name = make_node_name(site_name, node_idx)\n",
    "        node_idx += 1\n",
    "        \n",
    "        node = slice.add_node(name=node_name, site=site_name, **node_attribs)\n",
    "    \n",
    "        # postboot configuration is under 'post-boot' directory\n",
    "        node.add_post_boot_upload_directory('post-boot','.')\n",
    "        node.add_post_boot_execute(f'chmod +x post-boot/recver.sh && ./post-boot/recver.sh')\n",
    "    \n",
    "        nic_interface = node.add_component(model=nic_model, name='_'.join([node_name, nic_model, 'nic'])).get_interfaces()[0]\n",
    "        \n",
    "        # attach to a network, create network if needed\n",
    "        net = slice.get_network(name=net_name)\n",
    "        if net is None:\n",
    "            net = slice.add_l3network(name=net_name, type='IPv4Ext')\n",
    "            \n",
    "        net.add_interface(nic_interface)\n",
    "        inc -= 1\n",
    "\n",
    "    return None\n",
    "\n",
    "def check_modify(slice, selected_site_list, nodes_in_slice, expected_to_add):\n",
    "\n",
    "    success = True\n",
    "    idx = 1\n",
    "    while(expected_to_add >= idx):\n",
    "        # find sliver reservation for new node\n",
    "        node_sliver = slice.list_slivers(fields=['name', 'state'], \n",
    "                                         filter_function=lambda x: x['type'] == 'node' and \n",
    "                                             x['name'] == make_node_name(selected_site_list[0], nodes_in_slice + idx) and \n",
    "                                             x['state'] == 'Active')\n",
    "        # if it is none - it failed\n",
    "        if node_sliver is None:\n",
    "            success = False\n",
    "            break\n",
    "        else:\n",
    "            idx += 1\n",
    "\n",
    "    return success\n",
    "\n",
    "# until fablib fixes this\n",
    "def get_management_os_interface(node) -> str or None:\n",
    "        \"\"\"\n",
    "        Gets the name of the management interface used by the node's\n",
    "        operating system. \n",
    "\n",
    "        :return: interface name\n",
    "        :rtype: String\n",
    "        \"\"\"\n",
    "        stdout, stderr = node.execute(\"sudo ip -j route list\", quiet=True)\n",
    "        stdout_json = json.loads(stdout)\n",
    "\n",
    "        for i in stdout_json:\n",
    "            if i[\"dst\"] == \"default\":\n",
    "                return i[\"dev\"]\n",
    "\n",
    "        stdout, stderr = node.execute(\"sudo ip -6 -j route list\", quiet=True)\n",
    "        stdout_json = json.loads(stdout)\n",
    "\n",
    "        for i in stdout_json:\n",
    "            if i[\"dst\"] == \"default\":\n",
    "                return i[\"dev\"]\n",
    "\n",
    "        return None"
   ]
  },
  {
   "cell_type": "markdown",
   "id": "6c66e2c1-84d0-4228-b552-601b2909c237",
   "metadata": {},
   "source": [
    "## Helpers\n",
    "\n",
    "If you ever forget which images are available, run this cell:"
   ]
  },
  {
   "cell_type": "code",
   "execution_count": null,
   "id": "38130b75-8dc8-43c8-83cb-497a4768fc53",
   "metadata": {},
   "outputs": [],
   "source": [
    "# List available images (this step is optional)\n",
    "available_images = fablib.get_image_names()\n",
    "\n",
    "print(f'Available images are: {available_images}')"
   ]
  },
  {
   "cell_type": "markdown",
   "id": "fbd114ff-be4f-4be6-8326-e7b088a27e3c",
   "metadata": {},
   "source": [
    "## Prepare to create a new slice (skip if exists)"
   ]
  },
  {
   "cell_type": "code",
   "execution_count": null,
   "id": "ec766700-8245-4e4e-bf15-9630f4600456",
   "metadata": {},
   "outputs": [],
   "source": [
    "# list all slices I have running\n",
    "output_dataframe = fablib.list_slices(output='pandas')\n",
    "if output_dataframe:\n",
    "    print(output_dataframe)\n",
    "else:\n",
    "    print('No active slices under this project')"
   ]
  },
  {
   "cell_type": "code",
   "execution_count": null,
   "id": "9c4249e1-42aa-4575-8053-0edf4d95c3fd",
   "metadata": {},
   "outputs": [],
   "source": [
    "# Identify sites in continental US we want to use (NOOP if override is set)\n",
    "lon_west=-124.3993243\n",
    "lon_east=-69.9721573\n",
    "candidate_sites = 7\n",
    "free_nodes_worth = 3 # how many nodes worth are we looking per site\n",
    "\n",
    "# get a list of random sites, avoiding thos on the exclude list\n",
    "# unless there is an override\n",
    "if site_list_override is None:\n",
    "    selected_site_list = fablib.get_random_sites(count=candidate_sites, avoid=site_exclude_list,\n",
    "                                            filter_function=lambda x: x['location'][1] < lon_east\n",
    "                                            and x['location'][1] > lon_west \n",
    "                                            and x['cores_available'] > free_nodes_worth * node_attribs['cores']\n",
    "                                            and x['ram_available'] > free_nodes_worth * node_attribs['ram'] \n",
    "                                            and x['disk_available'] > free_nodes_worth * node_attribs['disk']) \n",
    "else:\n",
    "    selected_site_list = site_list_override\n",
    "\n",
    "if selected_site_list:\n",
    "    print(f'Selected sites are {selected_site_list}')\n",
    "else:\n",
    "    print('Unable to find a sites matching the requirements')\n"
   ]
  },
  {
   "cell_type": "markdown",
   "id": "e7ebd074-4107-483e-b369-79ccd1f99184",
   "metadata": {},
   "source": [
    "## Create slice iteratively (skip if exists)\n",
    "\n",
    "We may or may not get all the nodes we want immediately - we use iteration with slice modify to get to the max/desired number of nodes across the selected sites."
   ]
  },
  {
   "cell_type": "markdown",
   "id": "2e9bb82e-6db0-472a-aa3d-66cba06c3d08",
   "metadata": {},
   "source": [
    "### Create Starter Slice"
   ]
  },
  {
   "cell_type": "code",
   "execution_count": null,
   "id": "332540f0-89f5-4038-a28c-d02a454215c4",
   "metadata": {},
   "outputs": [],
   "source": [
    "# we start by establishing a slice with one sender node at some site, we keep track which sites we failed \n",
    "# and don't try those again\n",
    "\n",
    "keep_trying = True\n",
    "succeeded = False\n",
    "\n",
    "site_list_iter = iter(selected_site_list)\n",
    "failed_sites = {}\n",
    "site_name = None\n",
    "\n",
    "while keep_trying:\n",
    "\n",
    "    try:\n",
    "        site_name = next(site_list_iter)\n",
    "        print(f'Trying site {site_name} from {selected_site_list}')\n",
    "        \n",
    "        # define a starter slice\n",
    "        slice = starter_slice(site_name)\n",
    "\n",
    "        print(f'Submitting starter slice \"{slice_name}\" with sender on site {site_name}')\n",
    "        slice_id = slice.submit()\n",
    "\n",
    "        # check the state of this slice\n",
    "        slices = fablib.get_slices(excludes=[], slice_id=slice_id)\n",
    "        if slices[0].get_state() == 'Dead':\n",
    "            print(f'Failed on site {site_name}, proceeding')\n",
    "        else:\n",
    "            print(f'Succeeded on site {site_name} with state {slices[0].get_state()}')\n",
    "            keep_trying = False\n",
    "            succeeded = True\n",
    "    except StopIteration: \n",
    "        print('No more sites to look at, exiting')\n",
    "        keep_trying = False\n",
    "    except Exception as e:\n",
    "        print(f'Unexpected exception {e}, exiting')\n",
    "        keep_trying = False\n",
    "\n",
    "if succeeded:\n",
    "    print(f'Succeeded in creating a slice on {site_name}, will avoid sites {failed_sites}')\n",
    "    selected_site_list = list(filter(lambda x: x not in failed_sites, selected_site_list))\n",
    "    print(f'Proceeding with sites {selected_site_list}')"
   ]
  },
  {
   "cell_type": "markdown",
   "id": "c50070d1-b89f-427e-9a5d-7af7605c8610",
   "metadata": {},
   "source": [
    "### Modify the Slice to add Workers"
   ]
  },
  {
   "cell_type": "markdown",
   "id": "b9270746-f34e-44d6-9c0a-ecc05542a9d0",
   "metadata": {},
   "source": [
    "Now that the base with the sender slice is created we will iteratively add workers on sites one at a time using first-fit policy until we get to the desired number of workers or run out of sites."
   ]
  },
  {
   "cell_type": "code",
   "execution_count": null,
   "id": "341fd051-3dee-4c0c-8df8-f4222f1068fd",
   "metadata": {},
   "outputs": [],
   "source": [
    "remaining_workers = number_of_workers\n",
    "node_idx = 1\n",
    "node_increment = 3\n",
    "nodes_in_slice = 0 # we don't count sender in this case\n",
    "\n",
    "while remaining_workers > 0 and len(selected_site_list) > 0:\n",
    "    slice = fablib.get_slice(name=slice_name)\n",
    "    \n",
    "    try:\n",
    "        site_name = selected_site_list[0]\n",
    "        print(f'There are {remaining_workers} remaining workers to create. Trying site {site_name} from {selected_site_list}')\n",
    "        expected_to_add = node_increment if remaining_workers >= node_increment else remaining_workers\n",
    "        add_node_to_slice(site_name, node_idx, expected_to_add, slice)\n",
    "        \n",
    "        print(f'Submitting slice modification to \"{slice_name}\" to add {expected_to_add} nodes for site {site_name}')\n",
    "        slice_id = slice.modify()\n",
    "        \n",
    "        # check the state of this slice\n",
    "        slice = fablib.get_slice(name=slice_name)\n",
    "\n",
    "        if check_modify(slice, selected_site_list, nodes_in_slice, expected_to_add):\n",
    "            print(f'Succeeded adding {expected_to_add} nodes on site {site_name}.')\n",
    "            # successfully provisioned\n",
    "            node_idx += expected_to_add\n",
    "            remaining_workers -= expected_to_add\n",
    "            nodes_in_slice += expected_to_add\n",
    "        else:\n",
    "            print(f'Failed to provision on site {site_name}.')\n",
    "            # this site is full, moving on\n",
    "            selected_site_list.remove(site_name)            \n",
    "    except Exception as e:\n",
    "        remaining_workers = -1\n",
    "        print(f'Unexpected exception {e}, exiting')\n",
    "        break\n",
    "\n",
    "if remaining_workers == 0:\n",
    "    print('Succeeded in creating all workers')\n",
    "else:\n",
    "    print(f'Unable to create {remaining_workers}')\n"
   ]
  },
  {
   "cell_type": "markdown",
   "id": "3fa05d6d-ac6d-47f0-b351-4401b14c05c3",
   "metadata": {},
   "source": [
    "## Get Slice Details (always execute)\n",
    "\n",
    "The following code sets up data structures so all the follow up cells work properly. Execute it regardless of whether you just created the slice or coming back to an existing slice."
   ]
  },
  {
   "cell_type": "code",
   "execution_count": 48,
   "id": "6698360b-1118-4fa2-ace0-09bdf3f99a1f",
   "metadata": {},
   "outputs": [
    {
     "data": {
      "text/html": [
       "<style type=\"text/css\">\n",
       "#T_bc419 tr:nth-child(even) {\n",
       "  background: #dbf3ff;\n",
       "  color: #231f20;\n",
       "}\n",
       "#T_bc419 tr:nth-child(odd) {\n",
       "  background: #ffffff;\n",
       "  color: #231f20;\n",
       "}\n",
       "#T_bc419 caption {\n",
       "  text-align: center;\n",
       "  font-size: 150%;\n",
       "}\n",
       "#T_bc419_row0_col0, #T_bc419_row0_col1, #T_bc419_row1_col0, #T_bc419_row1_col1, #T_bc419_row2_col0, #T_bc419_row2_col1, #T_bc419_row3_col0, #T_bc419_row3_col1, #T_bc419_row4_col0, #T_bc419_row4_col1, #T_bc419_row5_col0, #T_bc419_row5_col1 {\n",
       "  text-align: left;\n",
       "  border: 1px #231f20 solid !important;\n",
       "  overwrite: False;\n",
       "}\n",
       "</style>\n",
       "<table id=\"T_bc419\">\n",
       "  <caption>Slice</caption>\n",
       "  <thead>\n",
       "  </thead>\n",
       "  <tbody>\n",
       "    <tr>\n",
       "      <td id=\"T_bc419_row0_col0\" class=\"data row0 col0\" >ID</td>\n",
       "      <td id=\"T_bc419_row0_col1\" class=\"data row0 col1\" >6dc09828-daba-472d-a6ed-87b0c62af3c1</td>\n",
       "    </tr>\n",
       "    <tr>\n",
       "      <td id=\"T_bc419_row1_col0\" class=\"data row1 col0\" >Name</td>\n",
       "      <td id=\"T_bc419_row1_col1\" class=\"data row1 col1\" >3-node LB Tester Slice using ubuntu22</td>\n",
       "    </tr>\n",
       "    <tr>\n",
       "      <td id=\"T_bc419_row2_col0\" class=\"data row2 col0\" >Lease Expiration (UTC)</td>\n",
       "      <td id=\"T_bc419_row2_col1\" class=\"data row2 col1\" >2024-10-22 14:15:35 +0000</td>\n",
       "    </tr>\n",
       "    <tr>\n",
       "      <td id=\"T_bc419_row3_col0\" class=\"data row3 col0\" >Lease Start (UTC)</td>\n",
       "      <td id=\"T_bc419_row3_col1\" class=\"data row3 col1\" >2024-10-21 14:15:35 +0000</td>\n",
       "    </tr>\n",
       "    <tr>\n",
       "      <td id=\"T_bc419_row4_col0\" class=\"data row4 col0\" >Project ID</td>\n",
       "      <td id=\"T_bc419_row4_col1\" class=\"data row4 col1\" >bbe0d94c-736b-477a-a2e6-fef9fe7ac9ca</td>\n",
       "    </tr>\n",
       "    <tr>\n",
       "      <td id=\"T_bc419_row5_col0\" class=\"data row5 col0\" >State</td>\n",
       "      <td id=\"T_bc419_row5_col1\" class=\"data row5 col1\" >StableOK</td>\n",
       "    </tr>\n",
       "  </tbody>\n",
       "</table>\n"
      ],
      "text/plain": [
       "<pandas.io.formats.style.Styler at 0x7b3dc03e7750>"
      ]
     },
     "metadata": {},
     "output_type": "display_data"
    },
    {
     "data": {
      "text/html": [
       "<style type=\"text/css\">\n",
       "#T_34bfc caption {\n",
       "  text-align: center;\n",
       "  font-size: 150%;\n",
       "  caption-side: top;\n",
       "}\n",
       "#T_34bfc th {\n",
       "  text-align: left;\n",
       "}\n",
       "#T_34bfc tr:nth-child(even) {\n",
       "  background: #ffffff;\n",
       "  color: #231f20;\n",
       "}\n",
       "#T_34bfc tr:nth-child(odd) {\n",
       "  background: #dbf3ff;\n",
       "  color: #231f20;\n",
       "}\n",
       "#T_34bfc .level0 {\n",
       "  border: 1px black solid !important;\n",
       "  background: #ffffff;\n",
       "  color: #231f20;\n",
       "}\n",
       "#T_34bfc_row0_col0, #T_34bfc_row0_col1, #T_34bfc_row0_col2, #T_34bfc_row0_col3, #T_34bfc_row0_col4, #T_34bfc_row0_col5, #T_34bfc_row0_col6, #T_34bfc_row0_col7, #T_34bfc_row0_col8 {\n",
       "  text-align: left;\n",
       "  border: 1px #231f20 solid !important;\n",
       "  overwrite: False;\n",
       "}\n",
       "</style>\n",
       "<table id=\"T_34bfc\">\n",
       "  <caption>Networks</caption>\n",
       "  <thead>\n",
       "    <tr>\n",
       "      <th id=\"T_34bfc_level0_col0\" class=\"col_heading level0 col0\" >ID</th>\n",
       "      <th id=\"T_34bfc_level0_col1\" class=\"col_heading level0 col1\" >Name</th>\n",
       "      <th id=\"T_34bfc_level0_col2\" class=\"col_heading level0 col2\" >Layer</th>\n",
       "      <th id=\"T_34bfc_level0_col3\" class=\"col_heading level0 col3\" >Type</th>\n",
       "      <th id=\"T_34bfc_level0_col4\" class=\"col_heading level0 col4\" >Site</th>\n",
       "      <th id=\"T_34bfc_level0_col5\" class=\"col_heading level0 col5\" >Subnet</th>\n",
       "      <th id=\"T_34bfc_level0_col6\" class=\"col_heading level0 col6\" >Gateway</th>\n",
       "      <th id=\"T_34bfc_level0_col7\" class=\"col_heading level0 col7\" >State</th>\n",
       "      <th id=\"T_34bfc_level0_col8\" class=\"col_heading level0 col8\" >Error</th>\n",
       "    </tr>\n",
       "  </thead>\n",
       "  <tbody>\n",
       "    <tr>\n",
       "      <td id=\"T_34bfc_row0_col0\" class=\"data row0 col0\" >1978de57-a6cc-4b40-8793-716ea1b8290d</td>\n",
       "      <td id=\"T_34bfc_row0_col1\" class=\"data row0 col1\" >fabnetv4ext_SRI</td>\n",
       "      <td id=\"T_34bfc_row0_col2\" class=\"data row0 col2\" >L3</td>\n",
       "      <td id=\"T_34bfc_row0_col3\" class=\"data row0 col3\" >FABNetv4Ext</td>\n",
       "      <td id=\"T_34bfc_row0_col4\" class=\"data row0 col4\" >SRI</td>\n",
       "      <td id=\"T_34bfc_row0_col5\" class=\"data row0 col5\" >23.134.233.176/28</td>\n",
       "      <td id=\"T_34bfc_row0_col6\" class=\"data row0 col6\" >23.134.233.177</td>\n",
       "      <td id=\"T_34bfc_row0_col7\" class=\"data row0 col7\" >Active</td>\n",
       "      <td id=\"T_34bfc_row0_col8\" class=\"data row0 col8\" ></td>\n",
       "    </tr>\n",
       "  </tbody>\n",
       "</table>\n"
      ],
      "text/plain": [
       "<pandas.io.formats.style.Styler at 0x7b3dc02ff990>"
      ]
     },
     "metadata": {},
     "output_type": "display_data"
    },
    {
     "data": {
      "text/html": [
       "<style type=\"text/css\">\n",
       "#T_34cfd caption {\n",
       "  text-align: center;\n",
       "  font-size: 150%;\n",
       "  caption-side: top;\n",
       "}\n",
       "#T_34cfd th {\n",
       "  text-align: left;\n",
       "}\n",
       "#T_34cfd tr:nth-child(even) {\n",
       "  background: #ffffff;\n",
       "  color: #231f20;\n",
       "}\n",
       "#T_34cfd tr:nth-child(odd) {\n",
       "  background: #dbf3ff;\n",
       "  color: #231f20;\n",
       "}\n",
       "#T_34cfd .level0 {\n",
       "  border: 1px black solid !important;\n",
       "  background: #ffffff;\n",
       "  color: #231f20;\n",
       "}\n",
       "#T_34cfd_row0_col0, #T_34cfd_row0_col1, #T_34cfd_row0_col2, #T_34cfd_row0_col3, #T_34cfd_row0_col4, #T_34cfd_row0_col5, #T_34cfd_row0_col6, #T_34cfd_row0_col7, #T_34cfd_row0_col8, #T_34cfd_row0_col9, #T_34cfd_row0_col10, #T_34cfd_row0_col11, #T_34cfd_row0_col12, #T_34cfd_row0_col13, #T_34cfd_row0_col14, #T_34cfd_row0_col15, #T_34cfd_row1_col0, #T_34cfd_row1_col1, #T_34cfd_row1_col2, #T_34cfd_row1_col3, #T_34cfd_row1_col4, #T_34cfd_row1_col5, #T_34cfd_row1_col6, #T_34cfd_row1_col7, #T_34cfd_row1_col8, #T_34cfd_row1_col9, #T_34cfd_row1_col10, #T_34cfd_row1_col11, #T_34cfd_row1_col12, #T_34cfd_row1_col13, #T_34cfd_row1_col14, #T_34cfd_row1_col15, #T_34cfd_row2_col0, #T_34cfd_row2_col1, #T_34cfd_row2_col2, #T_34cfd_row2_col3, #T_34cfd_row2_col4, #T_34cfd_row2_col5, #T_34cfd_row2_col6, #T_34cfd_row2_col7, #T_34cfd_row2_col8, #T_34cfd_row2_col9, #T_34cfd_row2_col10, #T_34cfd_row2_col11, #T_34cfd_row2_col12, #T_34cfd_row2_col13, #T_34cfd_row2_col14, #T_34cfd_row2_col15 {\n",
       "  text-align: left;\n",
       "  border: 1px #231f20 solid !important;\n",
       "  overwrite: False;\n",
       "}\n",
       "</style>\n",
       "<table id=\"T_34cfd\">\n",
       "  <caption>Nodes</caption>\n",
       "  <thead>\n",
       "    <tr>\n",
       "      <th id=\"T_34cfd_level0_col0\" class=\"col_heading level0 col0\" >ID</th>\n",
       "      <th id=\"T_34cfd_level0_col1\" class=\"col_heading level0 col1\" >Name</th>\n",
       "      <th id=\"T_34cfd_level0_col2\" class=\"col_heading level0 col2\" >Cores</th>\n",
       "      <th id=\"T_34cfd_level0_col3\" class=\"col_heading level0 col3\" >RAM</th>\n",
       "      <th id=\"T_34cfd_level0_col4\" class=\"col_heading level0 col4\" >Disk</th>\n",
       "      <th id=\"T_34cfd_level0_col5\" class=\"col_heading level0 col5\" >Image</th>\n",
       "      <th id=\"T_34cfd_level0_col6\" class=\"col_heading level0 col6\" >Image Type</th>\n",
       "      <th id=\"T_34cfd_level0_col7\" class=\"col_heading level0 col7\" >Host</th>\n",
       "      <th id=\"T_34cfd_level0_col8\" class=\"col_heading level0 col8\" >Site</th>\n",
       "      <th id=\"T_34cfd_level0_col9\" class=\"col_heading level0 col9\" >Username</th>\n",
       "      <th id=\"T_34cfd_level0_col10\" class=\"col_heading level0 col10\" >Management IP</th>\n",
       "      <th id=\"T_34cfd_level0_col11\" class=\"col_heading level0 col11\" >State</th>\n",
       "      <th id=\"T_34cfd_level0_col12\" class=\"col_heading level0 col12\" >Error</th>\n",
       "      <th id=\"T_34cfd_level0_col13\" class=\"col_heading level0 col13\" >SSH Command</th>\n",
       "      <th id=\"T_34cfd_level0_col14\" class=\"col_heading level0 col14\" >Public SSH Key File</th>\n",
       "      <th id=\"T_34cfd_level0_col15\" class=\"col_heading level0 col15\" >Private SSH Key File</th>\n",
       "    </tr>\n",
       "  </thead>\n",
       "  <tbody>\n",
       "    <tr>\n",
       "      <td id=\"T_34cfd_row0_col0\" class=\"data row0 col0\" >f79e41cd-2ab4-4e60-b82a-7ff19d91f623</td>\n",
       "      <td id=\"T_34cfd_row0_col1\" class=\"data row0 col1\" >Sender_SRI</td>\n",
       "      <td id=\"T_34cfd_row0_col2\" class=\"data row0 col2\" >8</td>\n",
       "      <td id=\"T_34cfd_row0_col3\" class=\"data row0 col3\" >32</td>\n",
       "      <td id=\"T_34cfd_row0_col4\" class=\"data row0 col4\" >100</td>\n",
       "      <td id=\"T_34cfd_row0_col5\" class=\"data row0 col5\" >default_ubuntu_22</td>\n",
       "      <td id=\"T_34cfd_row0_col6\" class=\"data row0 col6\" >qcow2</td>\n",
       "      <td id=\"T_34cfd_row0_col7\" class=\"data row0 col7\" >sri-w3.fabric-testbed.net</td>\n",
       "      <td id=\"T_34cfd_row0_col8\" class=\"data row0 col8\" >SRI</td>\n",
       "      <td id=\"T_34cfd_row0_col9\" class=\"data row0 col9\" >ubuntu</td>\n",
       "      <td id=\"T_34cfd_row0_col10\" class=\"data row0 col10\" >192.5.67.157</td>\n",
       "      <td id=\"T_34cfd_row0_col11\" class=\"data row0 col11\" >Active</td>\n",
       "      <td id=\"T_34cfd_row0_col12\" class=\"data row0 col12\" ></td>\n",
       "      <td id=\"T_34cfd_row0_col13\" class=\"data row0 col13\" >ssh -i /home/fabric/work/fabric_config/slice_key -F /home/fabric/work/fabric_config/ssh_config ubuntu@192.5.67.157</td>\n",
       "      <td id=\"T_34cfd_row0_col14\" class=\"data row0 col14\" >/home/fabric/work/fabric_config/slice_key.pub</td>\n",
       "      <td id=\"T_34cfd_row0_col15\" class=\"data row0 col15\" >/home/fabric/work/fabric_config/slice_key</td>\n",
       "    </tr>\n",
       "    <tr>\n",
       "      <td id=\"T_34cfd_row1_col0\" class=\"data row1 col0\" >53b59f20-d05c-46f1-bb7e-d7b15bcf1e73</td>\n",
       "      <td id=\"T_34cfd_row1_col1\" class=\"data row1 col1\" >Worker1_SRI</td>\n",
       "      <td id=\"T_34cfd_row1_col2\" class=\"data row1 col2\" >8</td>\n",
       "      <td id=\"T_34cfd_row1_col3\" class=\"data row1 col3\" >32</td>\n",
       "      <td id=\"T_34cfd_row1_col4\" class=\"data row1 col4\" >100</td>\n",
       "      <td id=\"T_34cfd_row1_col5\" class=\"data row1 col5\" >default_ubuntu_22</td>\n",
       "      <td id=\"T_34cfd_row1_col6\" class=\"data row1 col6\" >qcow2</td>\n",
       "      <td id=\"T_34cfd_row1_col7\" class=\"data row1 col7\" >sri-w3.fabric-testbed.net</td>\n",
       "      <td id=\"T_34cfd_row1_col8\" class=\"data row1 col8\" >SRI</td>\n",
       "      <td id=\"T_34cfd_row1_col9\" class=\"data row1 col9\" >ubuntu</td>\n",
       "      <td id=\"T_34cfd_row1_col10\" class=\"data row1 col10\" >192.5.67.99</td>\n",
       "      <td id=\"T_34cfd_row1_col11\" class=\"data row1 col11\" >Active</td>\n",
       "      <td id=\"T_34cfd_row1_col12\" class=\"data row1 col12\" ></td>\n",
       "      <td id=\"T_34cfd_row1_col13\" class=\"data row1 col13\" >ssh -i /home/fabric/work/fabric_config/slice_key -F /home/fabric/work/fabric_config/ssh_config ubuntu@192.5.67.99</td>\n",
       "      <td id=\"T_34cfd_row1_col14\" class=\"data row1 col14\" >/home/fabric/work/fabric_config/slice_key.pub</td>\n",
       "      <td id=\"T_34cfd_row1_col15\" class=\"data row1 col15\" >/home/fabric/work/fabric_config/slice_key</td>\n",
       "    </tr>\n",
       "    <tr>\n",
       "      <td id=\"T_34cfd_row2_col0\" class=\"data row2 col0\" >275d6973-6b36-4bd9-b47a-37f25081a4dc</td>\n",
       "      <td id=\"T_34cfd_row2_col1\" class=\"data row2 col1\" >Worker2_SRI</td>\n",
       "      <td id=\"T_34cfd_row2_col2\" class=\"data row2 col2\" >8</td>\n",
       "      <td id=\"T_34cfd_row2_col3\" class=\"data row2 col3\" >32</td>\n",
       "      <td id=\"T_34cfd_row2_col4\" class=\"data row2 col4\" >100</td>\n",
       "      <td id=\"T_34cfd_row2_col5\" class=\"data row2 col5\" >default_ubuntu_22</td>\n",
       "      <td id=\"T_34cfd_row2_col6\" class=\"data row2 col6\" >qcow2</td>\n",
       "      <td id=\"T_34cfd_row2_col7\" class=\"data row2 col7\" >sri-w3.fabric-testbed.net</td>\n",
       "      <td id=\"T_34cfd_row2_col8\" class=\"data row2 col8\" >SRI</td>\n",
       "      <td id=\"T_34cfd_row2_col9\" class=\"data row2 col9\" >ubuntu</td>\n",
       "      <td id=\"T_34cfd_row2_col10\" class=\"data row2 col10\" >192.5.67.135</td>\n",
       "      <td id=\"T_34cfd_row2_col11\" class=\"data row2 col11\" >Active</td>\n",
       "      <td id=\"T_34cfd_row2_col12\" class=\"data row2 col12\" ></td>\n",
       "      <td id=\"T_34cfd_row2_col13\" class=\"data row2 col13\" >ssh -i /home/fabric/work/fabric_config/slice_key -F /home/fabric/work/fabric_config/ssh_config ubuntu@192.5.67.135</td>\n",
       "      <td id=\"T_34cfd_row2_col14\" class=\"data row2 col14\" >/home/fabric/work/fabric_config/slice_key.pub</td>\n",
       "      <td id=\"T_34cfd_row2_col15\" class=\"data row2 col15\" >/home/fabric/work/fabric_config/slice_key</td>\n",
       "    </tr>\n",
       "  </tbody>\n",
       "</table>\n"
      ],
      "text/plain": [
       "<pandas.io.formats.style.Styler at 0x7b3dc0320e10>"
      ]
     },
     "metadata": {},
     "output_type": "display_data"
    },
    {
     "name": "stdout",
     "output_type": "stream",
     "text": [
      "Arranging nodes and networks by site and getting available IP addresses\n",
      "Listing public IP addresses per service\n",
      "fabnetv4ext_SRI has [IPv4Address('23.134.233.178'), IPv4Address('23.134.233.179'), IPv4Address('23.134.233.180')]\n"
     ]
    }
   ],
   "source": [
    "def find_net(net_list, name):\n",
    "    for net in net_list:\n",
    "        if net.get_name() == name:\n",
    "            return net\n",
    "    return None\n",
    "\n",
    "# get slice details \n",
    "slice = fablib.get_slice(name=slice_name)\n",
    "\n",
    "a = slice.show()\n",
    "nets = slice.list_networks()\n",
    "nodes = slice.list_nodes()\n",
    "\n",
    "# arrange nodes and network services by site for future convenience\n",
    "net_objects = slice.get_networks()\n",
    "node_objects = slice.get_nodes()\n",
    "available_ip_cnt = 10\n",
    "\n",
    "slivers_by_site = dict()\n",
    "\n",
    "print('Arranging nodes and networks by site and getting available IP addresses')\n",
    "for node in node_objects:\n",
    "    node_site = node.get_site()\n",
    "    if not slivers_by_site.get(node_site):\n",
    "        slivers_by_site[node_site] = dict()\n",
    "        slivers_by_site[node_site]['nodes'] = set()\n",
    "        slivers_by_site[node_site]['net'] = find_net(net_objects, make_net_name(node_site))\n",
    "    slivers_by_site[node_site]['nodes'].add(node)\n",
    "\n",
    "print('Listing public IP addresses per service')\n",
    "for net in net_objects:\n",
    "    print(f'{net.get_name()} has {net.get_public_ips()}')\n"
   ]
  },
  {
   "cell_type": "markdown",
   "id": "0f34ea09-c6bb-4bed-b831-35e0f5cf65e8",
   "metadata": {},
   "source": [
    "## Perform Hardening and Network Configuration Opening to Outside World"
   ]
  },
  {
   "cell_type": "markdown",
   "id": "0f49f98c-d88f-4622-b7da-aa4cf797b100",
   "metadata": {},
   "source": [
    "### Set up routing"
   ]
  },
  {
   "cell_type": "code",
   "execution_count": null,
   "id": "d92b9b99-defb-4102-a412-fd388763d19d",
   "metadata": {},
   "outputs": [],
   "source": [
    "# allocate externally routable IP addresses in each site network services\n",
    "# it is NORMAL to see 'IP addresses were updated due to conflicts'\n",
    "for site_name, site_slivers  in slivers_by_site.items():\n",
    "    print(f'Processing {site_name}')\n",
    "    site_net = site_slivers['net']\n",
    "    site_nodes = site_slivers['nodes']\n",
    "    site_slivers['ips'] = site_net.get_available_ips(count=len(site_nodes))\n",
    "    print(f'Requesting available IPs to be publicly routable: {site_slivers[\"ips\"]}')\n",
    "    site_net.make_ip_publicly_routable(ipv4=[str(x) for x in site_slivers['ips']])\n",
    "\n",
    "slice.submit()"
   ]
  },
  {
   "cell_type": "code",
   "execution_count": null,
   "id": "34cc4504-46c7-4807-92cd-28053fc63a11",
   "metadata": {},
   "outputs": [],
   "source": [
    "# get slice details \n",
    "slice = fablib.get_slice(name=slice_name)\n",
    "\n",
    "# check the results\n",
    "for site_name, site_slivers  in slivers_by_site.items():\n",
    "    print(f'Processing {site_name}')\n",
    "    site_net = site_slivers['net']\n",
    "    site_nodes = site_slivers['nodes']\n",
    "    print(f'Public IPs are: {site_net.get_public_ips()}')"
   ]
  },
  {
   "cell_type": "code",
   "execution_count": null,
   "id": "bafe7c3d-2d25-47b6-9403-c9b01b4492fb",
   "metadata": {},
   "outputs": [],
   "source": [
    "# configure node interfaces with these IP addresses\n",
    "for site_name, site_slivers in slivers_by_site.items():\n",
    "    print(f'Processing {site_name}')\n",
    "    site_net = site_slivers['net']\n",
    "    site_nodes = site_slivers['nodes']\n",
    "    site_addrs = site_net.get_public_ips()\n",
    "    for node, addr in zip(site_nodes, site_addrs):\n",
    "        print(f'  Adding address {addr} to node {node.get_name()} in subnet {site_net.get_subnet()}')\n",
    "        # make sure the interface is UP (in rare cases comes up in DOWN state)\n",
    "        node_iface = node.get_interface(network_name = site_net.get_name())\n",
    "        execute_single_node(node, [f'sudo ip link set {node_iface.get_os_interface()} up'])\n",
    "        node_iface.ip_addr_add(addr=addr, subnet=site_net.get_subnet())\n"
   ]
  },
  {
   "cell_type": "code",
   "execution_count": null,
   "id": "7c5a0e5c-f332-42be-9877-ee385eea2128",
   "metadata": {},
   "outputs": [],
   "source": [
    "# configure inter-site routing if you have multiple sites\n",
    "for site_name_from, site_slivers_from in slivers_by_site.items():\n",
    "    for site_name_to, site_slivers_to in slivers_by_site.items():\n",
    "        if site_name_from == site_name_to:\n",
    "            continue\n",
    "        # make sure nodes in site_name_from have a route to site_name_to subnet\n",
    "        subnet = site_slivers_to['net'].get_subnet()\n",
    "        gateway = site_slivers_from['net'].get_gateway()\n",
    "        for node in site_slivers_from['nodes']:\n",
    "            print(f'Setting up route to {subnet} via {gateway} on node {node.get_name()}')\n",
    "            node.ip_route_add(subnet=subnet, gateway=gateway)"
   ]
  },
  {
   "cell_type": "code",
   "execution_count": null,
   "id": "7808808c-6630-4368-8314-d10779781427",
   "metadata": {},
   "outputs": [],
   "source": [
    "# configure global routing to indicated subnets \n",
    "for site_name, site_slivers in slivers_by_site.items():\n",
    "    gateway = site_slivers['net'].get_gateway()\n",
    "    for node in site_slivers['nodes']:\n",
    "        print(f'Setting up routes on {node.get_name()}')\n",
    "        for subnet in external_subnets:\n",
    "            print(f'Setting up route to {subnet} via {gateway} on node {node.get_name()}')\n",
    "            execute_single_node(node, [f'sudo ip route add {subnet} via {gateway}'])"
   ]
  },
  {
   "cell_type": "markdown",
   "id": "d188265a-7204-493c-acf8-4cdf34f10252",
   "metadata": {},
   "source": [
    "### Setup Firewall (assuming firewalld is used regardless of distro)"
   ]
  },
  {
   "cell_type": "code",
   "execution_count": null,
   "id": "fee04f45-5f8f-4d08-a3eb-177d79c920f2",
   "metadata": {},
   "outputs": [],
   "source": [
    "# walk the nodes, add lo and management interface to 'trusted' zone where everything is allowed\n",
    "# add dataplane interface into 'public' zone where only 'open ports' from specific sources is allowed\n",
    "\n",
    "for site_name, site_slivers in slivers_by_site.items():\n",
    "    site_net = site_slivers['net']\n",
    "    for node in site_slivers['nodes']:\n",
    "        print(f'Setting up firewalld on node {node.get_name()}')\n",
    "        # note we are calling our own function - as of 1.7.0 fablib's node.get_management_os_interface()\n",
    "        # has a bug where it doesn't find management interface on IPv6 sites\n",
    "        mgmt_iface_name = get_management_os_interface(node)\n",
    "        if mgmt_iface_name is None:\n",
    "            print('Unable to determine management interface, skipping')\n",
    "            continue\n",
    "        data_iface = node.get_interface(network_name=site_net.get_name())\n",
    "        data_iface_name = data_iface.get_os_interface()\n",
    "        print(f'  Adding {mgmt_iface_name} and lo to trusted zone and {data_iface_name} to public zone')\n",
    "        commands = [\n",
    "            f'sudo firewall-cmd --permanent --zone=public --add-interface={data_iface_name}',\n",
    "            f'sudo firewall-cmd --permanent --zone=trusted --add-interface=lo',\n",
    "            f'sudo firewall-cmd --permanent --zone=trusted --add-interface={mgmt_iface_name}',\n",
    "            f'for i in $(sudo firewall-cmd --zone=public --list-services); do sudo firewall-cmd --zone=public --permanent --remove-service=$i; done',\n",
    "        ]\n",
    "        for subnet, portlist in open_ports.items():\n",
    "            for port in portlist:\n",
    "                commands.append(f'sudo firewall-cmd --permanent --zone=public --add-rich-rule=\\'rule family=\\\"ipv4\\\" source address=\\\"{subnet}\\\" port protocol=\\\"tcp\\\" port=\\\"{port}\\\" accept\\'')\n",
    "        for subnet in external_subnets:\n",
    "                commands.append(f'sudo firewall-cmd --permanent --zone=public --add-rich-rule=\\'rule family=\\\"ipv4\\\" source address=\\\"{subnet}\\\" protocol value=\\\"udp\\\" accept\\'')\n",
    "        commands.append(f'sudo firewall-cmd --reload')\n",
    "        commands.append(f'sudo firewall-cmd --list-all --zone=public')\n",
    "        execute_single_node(node, commands)\n",
    "        \n",
    "        "
   ]
  },
  {
   "cell_type": "markdown",
   "id": "45c614a4-b6a2-48bb-9f6e-4ce9b9677ddd",
   "metadata": {},
   "source": [
    "## Tune Buffers and MTUs\n",
    "\n",
    "In order to have good performance we need to\n",
    "- Make the UDP send/receive socket buffer size limit larger (applications are assumed to know how to make their buffers larger up to this limit)\n",
    "- Set MTU to 9k and test with DF=0 ping"
   ]
  },
  {
   "cell_type": "code",
   "execution_count": null,
   "id": "72c91079-9ce3-4d73-b945-182ffe85dd5a",
   "metadata": {},
   "outputs": [],
   "source": [
    "# setup UDP socket buffer sizes to 512M\n",
    "commands = [\n",
    "    f\"sudo sysctl net.core.rmem_max=536870912\",\n",
    "    f\"sudo sysctl net.core.wmem_max=536870912\",\n",
    "    f\"sysctl net.core.wmem_max net.core.rmem_max\"\n",
    "]\n",
    "# walk the nodes\n",
    "for site_name, site_slivers in slivers_by_site.items():\n",
    "    for node in site_slivers['nodes']:\n",
    "        execute_single_node(node, commands)"
   ]
  },
  {
   "cell_type": "code",
   "execution_count": null,
   "id": "0472d539-252c-4d50-90f8-bb7f9cdd1beb",
   "metadata": {},
   "outputs": [],
   "source": [
    "# set 9k MTU on dataplane interfaces\n",
    "mtu=9000\n",
    "\n",
    "for site_name, site_slivers in slivers_by_site.items():\n",
    "    site_net = site_slivers['net']\n",
    "    for node in site_slivers['nodes']:\n",
    "        data_iface = node.get_interface(network_name=site_net.get_name())\n",
    "        data_iface_name = data_iface.get_os_interface()\n",
    "        execute_single_node(node, [f\"sudo ip link set dev {data_iface_name} mtu {mtu}\"])"
   ]
  },
  {
   "cell_type": "code",
   "execution_count": null,
   "id": "8f5ef68c-6da4-4ce7-baee-a8efe7d61d3e",
   "metadata": {},
   "outputs": [],
   "source": [
    "# run a no-DF test from every node to the first public address of the first site on the list\n",
    "first_ip = list(slivers_by_site.items())[0][1]['net'].get_public_ips()[0]\n",
    "# you can replace first_ip with the IP of a load balancer, but be careful not to interfere\n",
    "# with a running experiment as this uses ping flood \n",
    "first_ip = \"192.188.29.1\"\n",
    "\n",
    "for site_name, site_slivers in slivers_by_site.items():\n",
    "    for node in site_slivers['nodes']:\n",
    "        print(f'Node {node.get_name()} pinging {first_ip}')\n",
    "        execute_single_node(node, [f\"sudo ping -q -f -s 8972 -c 100 -M do {first_ip}\"])"
   ]
  },
  {
   "cell_type": "markdown",
   "id": "3c57a0ac-8db8-41f8-b262-1923594c8059",
   "metadata": {},
   "source": [
    "## Customize Nodes\n",
    "\n",
    "Customize node setup by adding E2SAR installation"
   ]
  },
  {
   "cell_type": "markdown",
   "id": "53f9e006-4ee2-44c5-ba7c-a0d06a980bdc",
   "metadata": {},
   "source": [
    "### Add E2SAR and ERSAP software"
   ]
  },
  {
   "cell_type": "code",
   "execution_count": null,
   "id": "84ad8f6b-d909-4076-803e-8adfb9ee9cc5",
   "metadata": {},
   "outputs": [],
   "source": [
    "# install github ssh key and set up build environment variables for interactive logins\n",
    "commands = [\n",
    "    f\"chmod go-rwx {vm_key_location}\",\n",
    "    f\"echo 'export LD_LIBRARY_PATH=/usr/local/lib' >> ~/.profile\",\n",
    "    f\"echo 'export LD_LIBRARY_PATH=/usr/local/lib' >> ~/.bashrc\",\n",
    "    f\"echo 'export ERSAP_HOME=$HOME/ersap-install' >> ~/.profile\",\n",
    "    f\"echo 'export ERSAP_HOME=$HOME/ersap-install' >> ~/.bashrc\",\n",
    "]\n",
    "\n",
    "for node in slice.get_nodes():    \n",
    "    # upload the GitHub SSH key onto the VM\n",
    "    result = node.upload_file(github_key, vm_key_location)\n",
    "    execute_commands(node, commands)"
   ]
  },
  {
   "cell_type": "code",
   "execution_count": null,
   "id": "7200a034-e505-41d5-8f5e-6141b6b6cf38",
   "metadata": {},
   "outputs": [],
   "source": [
    "#download E2SAR deb\n",
    "commands = [\n",
    "    f\"wget -q -O e2sar-release.deb {e2sar_release_url}\",\n",
    "    f\"sudo apt -yq install ./e2sar-release.deb\",\n",
    "]\n",
    "\n",
    "for node in slice.get_nodes():    \n",
    "    execute_commands(node, commands)"
   ]
  },
  {
   "cell_type": "markdown",
   "id": "c4eda87f-c59c-44cb-87ec-820cdec9b329",
   "metadata": {},
   "source": [
    "### Installing ERSAP libraries and actors"
   ]
  },
  {
   "cell_type": "code",
   "execution_count": null,
   "id": "89f7a098-c295-4a77-8096-f878ffb92015",
   "metadata": {
    "scrolled": true
   },
   "outputs": [],
   "source": [
    "commands = [\n",
    "    f\"mkdir ERSAP\",\n",
    "    f\"cd ERSAP; GIT_SSH_COMMAND='ssh -i {vm_key_location} -o IdentitiesOnly=yes -o UserKnownHostsFile=/dev/null -o StrictHostKeyChecking=no' git clone --recurse-submodules --depth 1 -b upgradeGradle git@github.com:JeffersonLab/ersap-java.git\",\n",
    "    f\"cd ERSAP; GIT_SSH_COMMAND='ssh -i {vm_key_location} -o IdentitiesOnly=yes -o UserKnownHostsFile=/dev/null -o StrictHostKeyChecking=no' git clone --recurse-submodules --depth 1 -b main git@github.com:JeffersonLab/ersap-cpp.git\",\n",
    "    f\"cd ERSAP; GIT_SSH_COMMAND='ssh -i {vm_key_location} -o IdentitiesOnly=yes -o UserKnownHostsFile=/dev/null -o StrictHostKeyChecking=no' git clone --recurse-submodules --depth 1 -b main git@github.com:JeffersonLab/ersap-e2sar.git\",\n",
    "]\n",
    "for node in slice.get_nodes():    \n",
    "    execute_commands(node, commands)"
   ]
  },
  {
   "cell_type": "markdown",
   "id": "119547f8-daaf-4cef-bba9-2448e095ade7",
   "metadata": {},
   "source": [
    "### Installing erap-java and ersap-cpp\n",
    "ERSAP_HOME for this test is $HOME/ersap-install"
   ]
  },
  {
   "cell_type": "code",
   "execution_count": null,
   "id": "59d9fcd9-88b5-43db-b497-b91489351609",
   "metadata": {
    "scrolled": true
   },
   "outputs": [],
   "source": [
    "commands = [ \n",
    "    f\"export ERSAP_HOME=$HOME/ersap-install; cd ERSAP/ersap-java; ./gradlew deploy\",\n",
    "    f\"export ERSAP_HOME=$HOME/ersap-install; cd ERSAP/ersap-java; sudo ./gradlew publishToMavenLocal\",\n",
    "]\n",
    "for node in slice.get_nodes():    \n",
    "    execute_commands(node, commands)"
   ]
  },
  {
   "cell_type": "code",
   "execution_count": null,
   "id": "e6c0ac18-0d7c-41a1-b400-0cfb4f1afc00",
   "metadata": {},
   "outputs": [],
   "source": [
    "commands = [ \n",
    "    f\"export ERSAP_HOME=$HOME/ersap-install; cd ERSAP/ersap-cpp; ./configure --prefix='$ERSAP_HOME'\",\n",
    "    f\"cd ERSAP/ersap-cpp; make install\"\n",
    "]\n",
    "for node in slice.get_nodes():    \n",
    "    execute_commands(node, commands)"
   ]
  },
  {
   "cell_type": "markdown",
   "id": "d5d34267-c6e7-4e88-affc-cab7c2d4bb02",
   "metadata": {},
   "source": [
    "## Installing ersap-e2sar Java and CPP actors"
   ]
  },
  {
   "cell_type": "code",
   "execution_count": null,
   "id": "7dd03c6f-4514-4fee-bc05-eaa313bd3787",
   "metadata": {},
   "outputs": [],
   "source": [
    "commands = [ \n",
    "    f\"export ERSAP_HOME=$HOME/ersap-install; cd ERSAP/ersap-e2sar/segmentor; ./gradlew install\",\n",
    "    f\"export ERSAP_HOME=$HOME/ersap-install; cd ERSAP/ersap-e2sar/reassembler; ./gradlew install\",\n",
    "]\n",
    "for node in slice.get_nodes():    \n",
    "    execute_commands(node, commands)"
   ]
  },
  {
   "cell_type": "code",
   "execution_count": null,
   "id": "68015a50-f42f-4a21-afe7-e488ff068660",
   "metadata": {},
   "outputs": [],
   "source": [
    "commands = [ \n",
    "    f\"export ERSAP_HOME=$HOME/ersap-install; cd ERSAP/ersap-e2sar/segmentor; cmake -S . -B build\",\n",
    "    f\"export ERSAP_HOME=$HOME/ersap-install; cd ERSAP/ersap-e2sar/reassembler; cmake -S . -B build\",\n",
    "]\n",
    "for node in slice.get_nodes():    \n",
    "    execute_commands(node, commands)"
   ]
  },
  {
   "cell_type": "code",
   "execution_count": null,
   "id": "34f7474d-d9c3-4458-bc46-325463a24150",
   "metadata": {},
   "outputs": [],
   "source": [
    "commands = [ \n",
    "    f\"export ERSAP_HOME=$HOME/ersap-install; cd ERSAP/ersap-e2sar/segmentor; cmake --build build --target install\",\n",
    "    f\"export ERSAP_HOME=$HOME/ersap-install; cd ERSAP/ersap-e2sar/reassembler; cmake --build build --target install\",\n",
    "]\n",
    "for node in slice.get_nodes():    \n",
    "    execute_commands(node, commands)"
   ]
  },
  {
   "cell_type": "markdown",
   "id": "3e19f887-0a99-488e-8b9e-b72d5247f425",
   "metadata": {},
   "source": [
    "## Run Tests"
   ]
  },
  {
   "cell_type": "markdown",
   "id": "46c04a61-eebd-4189-9848-1c787995919e",
   "metadata": {},
   "source": [
    "### Run test on a live Load Balancer"
   ]
  },
  {
   "cell_type": "markdown",
   "id": "c60a87e0-0ecc-4e71-b728-fb358e349f04",
   "metadata": {},
   "source": [
    "1. Reserve a new load balancer instance for a maximum 2 hours\n",
    "2. Run the test (possibly multiple times)\n",
    "3. Free the load balancer"
   ]
  },
  {
   "cell_type": "code",
   "execution_count": null,
   "id": "cb56d28c-9ff9-4ae8-9f0a-ebed63c3672e",
   "metadata": {},
   "outputs": [],
   "source": [
    "sender = list(filter(lambda n: n.get_name()[0:6] == \"Sender\", slice.get_nodes()))[0]\n",
    "\n",
    "sender_addr = sender.get_interface(network_name=make_net_name(sender.get_site())).get_ip_addr()\n",
    "print(f\"Sender sending from {sender_addr}\")"
   ]
  },
  {
   "cell_type": "code",
   "execution_count": null,
   "id": "531e7e6b-dfd3-44b8-9d92-1df7b9887cae",
   "metadata": {},
   "outputs": [],
   "source": [
    "# Set the admin URI\n",
    "ejfat_admin_uri = '' # cut and paste here\n",
    "\n",
    "\n",
    "ld_library_path = \"LD_LIBRARY_PATH=/usr/local/lib\"\n",
    "bin_path = \"PATH=/usr/local/bin:$PATH\"\n",
    "# note we are forcing IPv4 here with -4 option - from FABRIC this is necessary\n",
    "lbadm = f\"{ld_library_path} {bin_path} lbadm -4\"\n"
   ]
  },
  {
   "cell_type": "code",
   "execution_count": null,
   "id": "95678748-722e-4e95-8b2c-c2363dc523d1",
   "metadata": {},
   "outputs": [],
   "source": [
    "# run an overview command to see what is reserved\n",
    "# we use sender node but any node can be used for admin commands\n",
    "\n",
    "command = f\"{lbadm} --overview -u {ejfat_admin_uri}\"\n",
    "\n",
    "execute_commands(sender, [command])"
   ]
  },
  {
   "cell_type": "code",
   "execution_count": null,
   "id": "e96478f5-ca90-4ad7-9544-56330f59e8a4",
   "metadata": {},
   "outputs": [],
   "source": [
    "# Reserve the load balancer\n",
    "lbname = 'e2sar-ersap-testlb'\n",
    "duration = '02:00:00' # 2 hours\n",
    "\n",
    "command = f\"{lbadm} --reserve -l {lbname} -a '{sender_addr}' -d {duration} -u '{ejfat_admin_uri}'\"\n",
    "execute_commands(sender, [command])"
   ]
  },
  {
   "cell_type": "code",
   "execution_count": null,
   "id": "acd72bab-8255-486d-a9cd-f753a8a707dd",
   "metadata": {},
   "outputs": [],
   "source": [
    "# copy the 'Updated URI after reserve with instance token' from the above result here:\n",
    "instance_uri = 'ejfats://bf4b241604c549d96e7db8ad8ef872096e20b06aade85ce571933e9208cf08af@ejfat-lb.es.net:18008/lb/32?sync=192.188.29.6:19010&data=192.188.29.10&data=[2001:400:a300::10]'"
   ]
  },
  {
   "cell_type": "code",
   "execution_count": null,
   "id": "b7ed79af-9715-4fe5-b416-b769bb69503d",
   "metadata": {},
   "outputs": [],
   "source": [
    "# get the status of the reserved LB (as a check)\n",
    "command = f\"{lbadm} --status -u '{instance_uri}'\"\n",
    "execute_commands(sender, [command])"
   ]
  },
  {
   "cell_type": "markdown",
   "id": "1016a949-c863-4a31-abdf-baff936e039a",
   "metadata": {},
   "source": [
    "### Run a test with real load balancer and single sender node and single receiver node"
   ]
  },
  {
   "cell_type": "code",
   "execution_count": null,
   "id": "7e71fd96-4054-4679-b38d-d53e6069eea3",
   "metadata": {},
   "outputs": [],
   "source": [
    "event_size = 80000 \n",
    "num_events = 1000"
   ]
  },
  {
   "cell_type": "code",
   "execution_count": null,
   "id": "e31da528-3762-4a94-86df-029e979840b7",
   "metadata": {},
   "outputs": [],
   "source": [
    "recver = list(filter(lambda n: n.get_name()[0:7] == \"Worker1\", slice.get_nodes()))[0]\n",
    "recver_addr = recver.get_interface(network_name=make_net_name(recver.get_site())).get_ip_addr()\n",
    "print(f\"Sender sending from {sender_addr}, receiver receiving on {recver_addr}\")"
   ]
  },
  {
   "cell_type": "markdown",
   "id": "37c3ac49-a2f7-4136-a3e0-4ac7e6accf75",
   "metadata": {},
   "source": [
    "#### Updating INI files with instance token"
   ]
  },
  {
   "cell_type": "code",
   "execution_count": null,
   "id": "4e60b051-0729-4fae-90fe-8f38da048e84",
   "metadata": {},
   "outputs": [],
   "source": [
    "#Updating INI config files\n",
    "commands = [ \n",
    "    f\"cd ERSAP/ersap-e2sar/reassembler; crudini --set config/live/reassembler.ini lb-config ejfatUri '{instance_uri}'\",\n",
    "    f\"cd ERSAP/ersap-e2sar/reassembler; crudini --set config/live/reassembler.ini lb-config ip '{recver_addr}'\",\n",
    "]\n",
    "execute_commands(recver, commands)"
   ]
  },
  {
   "cell_type": "code",
   "execution_count": null,
   "id": "51b7863b-2c7d-4a1b-930e-11af2c2048af",
   "metadata": {},
   "outputs": [],
   "source": [
    "commands = [ \n",
    "    f\"cd ERSAP/ersap-e2sar/segmentor; crudini --set config/live/segmentor.ini lb-config ejfatUri '{instance_uri}'\",\n",
    "    f\"cd ERSAP/ersap-e2sar/segmentor; crudini --set config/live/segmentor.ini lb-config ip '{sender_addr}'\",\n",
    "]\n",
    "execute_commands(sender, commands)"
   ]
  },
  {
   "cell_type": "code",
   "execution_count": null,
   "id": "d5500944-1cd1-45c1-bc98-bbfde3e09c56",
   "metadata": {},
   "outputs": [],
   "source": [
    "#yq e -i '.configuration.io-services.reader.events = 100' config/live/services.yaml \n",
    "commands = [ \n",
    "    f\"cd ERSAP/ersap-e2sar/segmentor; yq e -i '.configuration.io-services.reader.events = {num_events}' config/live/services.yaml \",\n",
    "    f\"cd ERSAP/ersap-e2sar/segmentor; yq e -i '.configuration.io-services.reader.eventSize = {event_size}' config/live/services.yaml\",\n",
    "]\n",
    "execute_commands(sender, commands)"
   ]
  },
  {
   "cell_type": "code",
   "execution_count": null,
   "id": "d79cab31-642c-43fb-9874-3cc3623e1102",
   "metadata": {},
   "outputs": [],
   "source": [
    "#yq e -i '.configuration.io-services.reader.events = 100' config/live/services.yaml \n",
    "commands = [ \n",
    "    f\"cd ERSAP/ersap-e2sar/reassembler; yq e -i '.configuration.io-services.reader.events = {num_events}' config/live/services.yaml \",\n",
    "]\n",
    "execute_commands(recver, commands)"
   ]
  },
  {
   "cell_type": "code",
   "execution_count": null,
   "id": "e2790c3a-a15d-46eb-8865-e43176e6d49b",
   "metadata": {},
   "outputs": [],
   "source": [
    "# deleting the output file in reassembler to make sure this works. Also printing out the input file\n",
    "\n",
    "commands = [ \n",
    "    f\"rm ERSAP/ersap-e2sar/reassembler/output/out_in.txt\",\n",
    "]\n",
    "execute_commands(recver, commands)"
   ]
  },
  {
   "cell_type": "code",
   "execution_count": null,
   "id": "7f1a1a50-2d09-40fa-8599-652238eb3b1d",
   "metadata": {},
   "outputs": [],
   "source": [
    "import time\n",
    "recv_command = f\"export ERSAP_HOME=$HOME/ersap-install LD_LIBRARY_PATH=/usr/local/lib; cd ERSAP/ersap-e2sar/reassembler; $HOME/ersap-install/bin/ersap-shell config/live/reassembler_live.ersap\"\n",
    "send_command = f\"export ERSAP_HOME=$HOME/ersap-install LD_LIBRARY_PATH=/usr/local/lib; cd ERSAP/ersap-e2sar/segmentor; $HOME/ersap-install/bin/ersap-shell config/live/segmentor_live.ersap\"\n",
    "\n",
    "# start the receiver for 10 seconds and log its output\n",
    "print(f'Executing command {recv_command} on worker-reassembler')\n",
    "recver.execute_thread(recv_command, output_file=f\"reassembler-live.ersap-e2sar.log\")\n",
    "\n",
    "time.sleep(5)\n",
    "\n",
    "# start the sender in the foreground\n",
    "print(f'Executing command {send_command} on sender-segmentor')\n",
    "stdout_send, stderr_send = sender.execute(send_command, output_file=f\"{sender.get_name()}.perf.log\")\n",
    "\n",
    "print(f\"Inspect reassembler-live.ersap-e2sar.log file in your Jupyter container to see the results\")"
   ]
  },
  {
   "cell_type": "markdown",
   "id": "1430bbca-c1d4-41bc-a3f1-5ee32ccb53d1",
   "metadata": {},
   "source": [
    "### Run the test with a single sender node and multiple receiver nodes"
   ]
  },
  {
   "cell_type": "code",
   "execution_count": 50,
   "id": "76d3a1b2-881c-4da9-b8ac-584721f34683",
   "metadata": {},
   "outputs": [
    {
     "name": "stdout",
     "output_type": "stream",
     "text": [
      "Sender sending from 23.134.233.179, receivers receiving on:\n",
      "\tWorker1_SRI: 23.134.233.178\n",
      "\tWorker2_SRI: 23.134.233.180\n"
     ]
    }
   ],
   "source": [
    "# select sender and receivers\n",
    "sender = list(filter(lambda n: n.get_name()[0:6] == \"Sender\", slice.get_nodes()))[0]\n",
    "\n",
    "worker_index = 1\n",
    "recvers = list()\n",
    "recver_addrs = list()\n",
    "while True:\n",
    "    matches = list(filter(lambda n: n.get_name()[0:7] == f\"Worker{worker_index}\", slice.get_nodes()))\n",
    "    if len(matches) == 0:\n",
    "        break\n",
    "    recver = matches[0]\n",
    "    recvers.append(recver)\n",
    "    recver_addr = recver.get_interface(network_name=make_net_name(recver.get_site())).get_ip_addr()\n",
    "    recver_addrs.append(recver_addr)\n",
    "    worker_index += 1\n",
    "    \n",
    "sender_addr = sender.get_interface(network_name=make_net_name(sender.get_site())).get_ip_addr()\n",
    "print(f\"Sender sending from {sender_addr}, receivers receiving on:\")\n",
    "for recver, recver_addr in zip(recvers, recver_addrs):\n",
    "    print(\"\\t\" + recver.get_name() + \": \" + recver_addr)"
   ]
  },
  {
   "cell_type": "code",
   "execution_count": 51,
   "id": "16e8d6c8-1caa-491f-aec2-fe104e573bc9",
   "metadata": {},
   "outputs": [
    {
     "name": "stdout",
     "output_type": "stream",
     "text": [
      "\tExecuting \"cd ERSAP/ersap-e2sar/reassembler; crudini --set config/live/reassembler.ini lb-config timeout '10'\" on node Worker1_SRI\n",
      "\tExecuting \"cd ERSAP/ersap-e2sar/reassembler; crudini --set config/live/reassembler.ini lb-config timeout '10'\" on node Worker2_SRI\n"
     ]
    }
   ],
   "source": [
    "# Need to reduce timeouts for receivers\n",
    "timeout = 10\n",
    "for recver in recvers:\n",
    "    commands = [ \n",
    "        f\"cd ERSAP/ersap-e2sar/reassembler; crudini --set config/live/reassembler.ini lb-config timeout '{timeout}'\",\n",
    "    ]\n",
    "    execute_commands(recver, commands)"
   ]
  },
  {
   "cell_type": "code",
   "execution_count": 52,
   "id": "527ae11a-fc20-4267-9305-d9130d1812ca",
   "metadata": {},
   "outputs": [
    {
     "name": "stdout",
     "output_type": "stream",
     "text": [
      "\tExecuting \"cd ERSAP/ersap-e2sar/reassembler; crudini --set config/live/reassembler.ini lb-config ejfatUri 'ejfats://bf4b241604c549d96e7db8ad8ef872096e20b06aade85ce571933e9208cf08af@ejfat-lb.es.net:18008/lb/32?sync=192.188.29.6:19010&data=192.188.29.10&data=[2001:400:a300::10]'\" on node Worker1_SRI\n",
      "\tExecuting \"cd ERSAP/ersap-e2sar/reassembler; crudini --set config/live/reassembler.ini lb-config ip '23.134.233.178'\" on node Worker1_SRI\n",
      "\tExecuting \"rm ERSAP/ersap-e2sar/reassembler/output/out_in.txt\" on node Worker1_SRI\n",
      "\tExecuting \"cd ERSAP/ersap-e2sar/reassembler; crudini --set config/live/reassembler.ini lb-config ejfatUri 'ejfats://bf4b241604c549d96e7db8ad8ef872096e20b06aade85ce571933e9208cf08af@ejfat-lb.es.net:18008/lb/32?sync=192.188.29.6:19010&data=192.188.29.10&data=[2001:400:a300::10]'\" on node Worker2_SRI\n",
      "\tExecuting \"cd ERSAP/ersap-e2sar/reassembler; crudini --set config/live/reassembler.ini lb-config ip '23.134.233.180'\" on node Worker2_SRI\n",
      "\tExecuting \"rm ERSAP/ersap-e2sar/reassembler/output/out_in.txt\" on node Worker2_SRI\n"
     ]
    }
   ],
   "source": [
    "#Updating INI config files amd deleting the output file in reassembler\n",
    "for recver, recver_addr in zip(recvers, recver_addrs):\n",
    "    commands = [ \n",
    "        f\"cd ERSAP/ersap-e2sar/reassembler; crudini --set config/live/reassembler.ini lb-config ejfatUri '{instance_uri}'\",\n",
    "        f\"cd ERSAP/ersap-e2sar/reassembler; crudini --set config/live/reassembler.ini lb-config ip '{recver_addr}'\",\n",
    "        f\"rm ERSAP/ersap-e2sar/reassembler/output/out_in.txt\",\n",
    "    ]\n",
    "    execute_commands(recver, commands)"
   ]
  },
  {
   "cell_type": "code",
   "execution_count": 53,
   "id": "8da99e9a-5169-4564-863e-ebab21344fb6",
   "metadata": {},
   "outputs": [
    {
     "name": "stdout",
     "output_type": "stream",
     "text": [
      "\tExecuting \"cd ERSAP/ersap-e2sar/segmentor; crudini --set config/live/segmentor.ini lb-config ejfatUri 'ejfats://bf4b241604c549d96e7db8ad8ef872096e20b06aade85ce571933e9208cf08af@ejfat-lb.es.net:18008/lb/32?sync=192.188.29.6:19010&data=192.188.29.10&data=[2001:400:a300::10]'\" on node Sender_SRI\n",
      "\tExecuting \"cd ERSAP/ersap-e2sar/segmentor; crudini --set config/live/segmentor.ini lb-config ip '23.134.233.179'\" on node Sender_SRI\n"
     ]
    }
   ],
   "source": [
    "commands = [ \n",
    "    f\"cd ERSAP/ersap-e2sar/segmentor; crudini --set config/live/segmentor.ini lb-config ejfatUri '{instance_uri}'\",\n",
    "    f\"cd ERSAP/ersap-e2sar/segmentor; crudini --set config/live/segmentor.ini lb-config ip '{sender_addr}'\",\n",
    "]\n",
    "execute_commands(sender, commands)"
   ]
  },
  {
   "cell_type": "code",
   "execution_count": null,
   "id": "96ecdc80-1156-468a-9871-c5e3afea5771",
   "metadata": {},
   "outputs": [],
   "source": [
    "import time\n",
    "recv_command = f\"export ERSAP_HOME=$HOME/ersap-install LD_LIBRARY_PATH=/usr/local/lib; cd ERSAP/ersap-e2sar/reassembler; $HOME/ersap-install/bin/ersap-shell config/live/reassembler_live.ersap\"\n",
    "send_command = f\"{lbadm} --status -u '{instance_uri}'; export ERSAP_HOME=$HOME/ersap-install LD_LIBRARY_PATH=/usr/local/lib; cd ERSAP/ersap-e2sar/segmentor; $HOME/ersap-install/bin/ersap-shell config/live/segmentor_live.ersap\"\n",
    "\n",
    "for recver, recver_addr in zip(recvers, recver_addrs):\n",
    "    print(f'Executing command {recv_command} on receiver {recver.get_name()}')\n",
    "    recver.execute_thread(recv_command, output_file=f\"{recver.get_name()}.ersap-e2sar-live.log\")\n",
    "\n",
    "# sleep 5 seconds to let receivers get going\n",
    "time.sleep(3)\n",
    "\n",
    "# start the sender in the foreground\n",
    "print(f'Executing command {send_command} on sender')\n",
    "stdout_send, stderr_send = sender.execute(send_command, output_file=f\"{sender.get_name()}.ersap-e2sar-live.log\")\n",
    "\n",
    "print(f\"Inspect WorkerX.perf.log files to see the results. They should indicate how many events were received and how many lost.\")"
   ]
  },
  {
   "cell_type": "code",
   "execution_count": null,
   "id": "41716952-8d5c-4eae-a843-ef5ac0c3ff8a",
   "metadata": {},
   "outputs": [],
   "source": [
    "# free the load balancer\n",
    "command = f\"{lbadm} --free -u '{instance_uri}'\"\n",
    "\n",
    "execute_commands(sender, [command])"
   ]
  },
  {
   "cell_type": "markdown",
   "id": "56c8d476-689a-4c4c-b5dc-ed0625410abc",
   "metadata": {},
   "source": [
    "## Manage the slice\n",
    "\n",
    "### Extend by two weeks"
   ]
  },
  {
   "cell_type": "code",
   "execution_count": null,
   "id": "fbf9fe4f-b067-4d2c-94a5-9839d5a53b73",
   "metadata": {},
   "outputs": [],
   "source": [
    "# Set end host to now plus 14 days\n",
    "end_date = (datetime.now(timezone.utc) + timedelta(days=14)).strftime(\"%Y-%m-%d %H:%M:%S %z\")\n",
    "\n",
    "try:\n",
    "    slice = fablib.get_slice(name=slice_name)\n",
    "\n",
    "    slice.renew(end_date)\n",
    "except Exception as e:\n",
    "    print(f\"Exception: {e}\")"
   ]
  },
  {
   "cell_type": "markdown",
   "id": "38eb476a-2b17-4064-9a0e-a7a98d865804",
   "metadata": {},
   "source": [
    "### Delete"
   ]
  },
  {
   "cell_type": "code",
   "execution_count": null,
   "id": "de3546bf-a013-4eaa-bab1-fb52f7d36c55",
   "metadata": {},
   "outputs": [],
   "source": [
    "slice = fablib.get_slice(slice_name)\n",
    "slice.delete()"
   ]
  },
  {
   "cell_type": "code",
   "execution_count": null,
   "id": "1737f112-95d3-4a78-9b15-f16ae98e7f12",
   "metadata": {},
   "outputs": [],
   "source": []
  }
 ],
 "metadata": {
  "kernelspec": {
   "display_name": "Python 3 (ipykernel)",
   "language": "python",
   "name": "python3"
  },
  "language_info": {
   "codemirror_mode": {
    "name": "ipython",
    "version": 3
   },
   "file_extension": ".py",
   "mimetype": "text/x-python",
   "name": "python",
   "nbconvert_exporter": "python",
   "pygments_lexer": "ipython3",
   "version": "3.11.8"
  }
 },
 "nbformat": 4,
 "nbformat_minor": 5
}
